{
 "cells": [
  {
   "cell_type": "code",
   "execution_count": 1,
   "metadata": {},
   "outputs": [],
   "source": [
    "# 투 포인터\n",
    "# 슬라이딩 윈도우가 정해진 범위가 주어져 있다면 투 포인터는 범위가 정해지지 않음\n",
    "# 슬라이딩 윈도우와 반대로 어떤 값이 되는 범위를 찾을 때 사용하는 것이 투 포인터"
   ]
  },
  {
   "cell_type": "code",
   "execution_count": 2,
   "metadata": {},
   "outputs": [
    {
     "name": "stdout",
     "output_type": "stream",
     "text": [
      "3\n"
     ]
    }
   ],
   "source": [
    "# 수들의 합 2[백준 2003]\n",
    "N, M = map(int, input().split())\n",
    "arr = list(map(int, input().split()))\n",
    "\n",
    "start = 0\n",
    "end = 0\n",
    "sum_arr = 0\n",
    "ans = 0\n",
    "\n",
    "while True:\n",
    "    if M <= sum_arr:\n",
    "        sum_arr -= arr[start]\n",
    "        start += 1\n",
    "    else:\n",
    "        if end == N:\n",
    "            break\n",
    "        sum_arr += arr[end]\n",
    "        end += 1\n",
    "\n",
    "    if sum_arr == M:\n",
    "        ans += 1\n",
    "print(ans)"
   ]
  }
 ],
 "metadata": {
  "kernelspec": {
   "display_name": "base",
   "language": "python",
   "name": "python3"
  },
  "language_info": {
   "codemirror_mode": {
    "name": "ipython",
    "version": 3
   },
   "file_extension": ".py",
   "mimetype": "text/x-python",
   "name": "python",
   "nbconvert_exporter": "python",
   "pygments_lexer": "ipython3",
   "version": "3.11.4"
  },
  "orig_nbformat": 4
 },
 "nbformat": 4,
 "nbformat_minor": 2
}
