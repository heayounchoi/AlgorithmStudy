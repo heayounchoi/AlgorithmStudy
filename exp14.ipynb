{
 "cells": [
  {
   "cell_type": "code",
   "execution_count": 1,
   "metadata": {},
   "outputs": [],
   "source": [
    "# 그리디 알고리즘\n",
    "# 각 단계에서 최적이라고 생각되는 결정을 하여 최종적인 해답에 도달하는 알고리즘"
   ]
  },
  {
   "cell_type": "code",
   "execution_count": 2,
   "metadata": {},
   "outputs": [
    {
     "name": "stdout",
     "output_type": "stream",
     "text": [
      "6\n"
     ]
    }
   ],
   "source": [
    "# 동전 0[백준 11047]\n",
    "N, K = map(int, input().split())\n",
    "\n",
    "coins = []\n",
    "for _ in range(N):\n",
    "    coins.append(int(input()))\n",
    "    \n",
    "ans = 0\n",
    "for c in coins[::-1]:\n",
    "    if K == 0:\n",
    "        break \n",
    "    ans += K // c\n",
    "    K %= c \n",
    "\n",
    "print(ans)"
   ]
  },
  {
   "cell_type": "code",
   "execution_count": 3,
   "metadata": {},
   "outputs": [
    {
     "name": "stdout",
     "output_type": "stream",
     "text": [
      "4\n"
     ]
    }
   ],
   "source": [
    "# 회의실 배정[백준 1931]\n",
    "# Activity-Selection Problem: 여러가지 활동이 있을 때 어떤 사람이 수행할 수 있는 활도으이 최대 갯수를 구하는 문제\n",
    "N = int(input())\n",
    "arr = []\n",
    "for _ in range(N):\n",
    "    s, e = map(int, input().split())\n",
    "    arr.append([s, e])\n",
    "    \n",
    "arr.sort(key=lambda x : [x[1], x[0]])\n",
    "\n",
    "end_time = arr[0][1]\n",
    "ans = 1\n",
    "\n",
    "for i in range(1, N):\n",
    "    start_time = arr[i][0]\n",
    "    if start_time < end_time:\n",
    "        continue\n",
    "    end_time = arr[i][1]\n",
    "    ans += 1\n",
    "\n",
    "print(ans)"
   ]
  },
  {
   "cell_type": "code",
   "execution_count": 4,
   "metadata": {},
   "outputs": [
    {
     "name": "stdout",
     "output_type": "stream",
     "text": [
      "8\n"
     ]
    }
   ],
   "source": [
    "# 햄버거 분배(정올 2020)[백준 19941]\n",
    "N, K = map(int, input().split())\n",
    "arr = list(input())\n",
    "cnt = 0\n",
    "for i in range(N):\n",
    "    if arr[i] != 'P':\n",
    "        continue\n",
    "    for j in range(i-K, i+K+1):\n",
    "        if 0 <= j < N:\n",
    "            if arr[j] == 'H':\n",
    "                arr[j] = '-'\n",
    "                cnt += 1\n",
    "                break\n",
    "print(cnt)"
   ]
  },
  {
   "cell_type": "code",
   "execution_count": 6,
   "metadata": {},
   "outputs": [
    {
     "name": "stdout",
     "output_type": "stream",
     "text": [
      "2\n"
     ]
    }
   ],
   "source": [
    "# 피하자(정올 2022)[백준 25379]\n",
    "N = int(input())\n",
    "arr = list(map(int, input().split()))\n",
    "\n",
    "cnt_odd_left = 0\n",
    "cnt = 0\n",
    "for a in arr:\n",
    "    if a % 2 == 1:\n",
    "        cnt += 1\n",
    "    else:\n",
    "        cnt_odd_left += cnt \n",
    "\n",
    "cnt_even_left = 0\n",
    "cnt = 0\n",
    "for a in arr:\n",
    "    if a % 2 == 0:\n",
    "        cnt += 1\n",
    "    else:\n",
    "        cnt_even_left += cnt \n",
    "\n",
    "print(min(cnt_odd_left, cnt_even_left))"
   ]
  },
  {
   "cell_type": "code",
   "execution_count": null,
   "metadata": {},
   "outputs": [],
   "source": [
    "# 좀 더 생각해 보기2\n",
    "N = int(input())\n",
    "arr = list(map(int, input().split()))\n",
    "\n",
    "cnt_odd_left = 0\n",
    "cnt_odd = 0\n",
    "cnt_even_left = 0\n",
    "cnt_even = 0\n",
    "\n",
    "for a in arr:\n",
    "    if a % 2 == 1:\n",
    "        cnt_odd += 1\n",
    "        cnt_even_left += cnt_even\n",
    "    else:\n",
    "        cnt_even += 1\n",
    "        cnt_odd_left += cnt_odd\n",
    "\n",
    "print(min(cnt_odd_left, cnt_even_left))"
   ]
  },
  {
   "cell_type": "code",
   "execution_count": null,
   "metadata": {},
   "outputs": [],
   "source": [
    "# 좀 더 생각해 보기3\n",
    "N = int(input())\n",
    "arr = list(map(int, input().split()))\n",
    "\n",
    "cnt_left = [0, 0]\n",
    "cnt = [0, 0]\n",
    "\n",
    "for a in arr:\n",
    "    idx = a % 2\n",
    "    cnt[idx] += 1\n",
    "    cnt_left[idx] += cnt[1 - idx]\n",
    "\n",
    "print(min(cnt_left))"
   ]
  }
 ],
 "metadata": {
  "kernelspec": {
   "display_name": "base",
   "language": "python",
   "name": "python3"
  },
  "language_info": {
   "codemirror_mode": {
    "name": "ipython",
    "version": 3
   },
   "file_extension": ".py",
   "mimetype": "text/x-python",
   "name": "python",
   "nbconvert_exporter": "python",
   "pygments_lexer": "ipython3",
   "version": "3.11.4"
  },
  "orig_nbformat": 4
 },
 "nbformat": 4,
 "nbformat_minor": 2
}
