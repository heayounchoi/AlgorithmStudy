{
 "cells": [
  {
   "cell_type": "code",
   "execution_count": 1,
   "metadata": {},
   "outputs": [],
   "source": [
    "# 시간 복잡도"
   ]
  },
  {
   "cell_type": "code",
   "execution_count": 2,
   "metadata": {},
   "outputs": [],
   "source": [
    "# 시간 복잡도 표현\n",
    "# 1. 최선의 상황 : Big-Omega 표기법\n",
    "# 잘 사용하지 않음. 복권을 구매했을 때 항상 1등 당첨이 될거라는 가정을 하는 것과 같음.\n",
    "# 실제로 일어나기 너무 힘든 사건을 가정하고 코딩하면 원하는 결과를 얻을 확률도 낮음.\n",
    "\n",
    "# 2. 평균의 상황 : Big-Theta 표기법\n",
    "# 평균의 상황을 고려. 좋지 않은 방법.\n",
    "\n",
    "# 3. 최악의 상황 : Big-O 표기법\n",
    "# 한계치를 알 수 있음. "
   ]
  },
  {
   "cell_type": "code",
   "execution_count": null,
   "metadata": {},
   "outputs": [],
   "source": [
    "# 수행 속도 비교\n",
    "#O(1) < O(log n) < O(n) < O(n log n) < O(n²) < O(n³)  < O(2^n)"
   ]
  }
 ],
 "metadata": {
  "kernelspec": {
   "display_name": "base",
   "language": "python",
   "name": "python3"
  },
  "language_info": {
   "codemirror_mode": {
    "name": "ipython",
    "version": 3
   },
   "file_extension": ".py",
   "mimetype": "text/x-python",
   "name": "python",
   "nbconvert_exporter": "python",
   "pygments_lexer": "ipython3",
   "version": "3.11.4"
  },
  "orig_nbformat": 4
 },
 "nbformat": 4,
 "nbformat_minor": 2
}
