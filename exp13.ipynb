{
 "cells": [
  {
   "cell_type": "code",
   "execution_count": 1,
   "metadata": {},
   "outputs": [],
   "source": [
    "# 나머지 연산 (Modulo 연산)"
   ]
  },
  {
   "cell_type": "code",
   "execution_count": 2,
   "metadata": {},
   "outputs": [],
   "source": [
    "# 나머지 연산 분배 법칙\n",
    "# (A * B) % C = ((A % C) * (B % C)) % C\n",
    "# (A + B) % C = ((A % C) + (B % C)) % C\n",
    "# (A - B) % C = ((A % C) - (B % C)) % C\n",
    "\n",
    "# 페르마의 소정리(Fermat’s little theorem)\n",
    "# 소수 p와 p의 배수가 아닌 정수 a가 있을 때 a^p를 p로 나눈 나머지와 a를 p로 나눈 나머지는 같다"
   ]
  },
  {
   "attachments": {},
   "cell_type": "markdown",
   "metadata": {},
   "source": []
  },
  {
   "cell_type": "code",
   "execution_count": 11,
   "metadata": {},
   "outputs": [
    {
     "name": "stdout",
     "output_type": "stream",
     "text": [
      "4\n"
     ]
    }
   ],
   "source": [
    "# 곱셈[백준 1629]\n",
    "a, b, c = map(int, input().split())\n",
    "\n",
    "def solve(a, b):\n",
    "    if b == 1: # 종료 조건\n",
    "        return a % c\n",
    "\n",
    "    result = solve(a, b // 2)\n",
    "\n",
    "    if b % 2 == 0:\n",
    "        return (result * result) % c\n",
    "    else:\n",
    "        return (result * result) * a % c\n",
    "\n",
    "print(solve(a, b))"
   ]
  }
 ],
 "metadata": {
  "kernelspec": {
   "display_name": "base",
   "language": "python",
   "name": "python3"
  },
  "language_info": {
   "codemirror_mode": {
    "name": "ipython",
    "version": 3
   },
   "file_extension": ".py",
   "mimetype": "text/x-python",
   "name": "python",
   "nbconvert_exporter": "python",
   "pygments_lexer": "ipython3",
   "version": "3.11.4"
  },
  "orig_nbformat": 4
 },
 "nbformat": 4,
 "nbformat_minor": 2
}
