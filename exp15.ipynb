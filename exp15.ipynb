{
 "cells": [
  {
   "cell_type": "code",
   "execution_count": 1,
   "metadata": {},
   "outputs": [],
   "source": [
    "# 누적 합: 리스트의 각 원소에 대해 그 이전 원소들의 합을 미리 구해 구간의 합을 구하는 방법"
   ]
  },
  {
   "cell_type": "code",
   "execution_count": 2,
   "metadata": {},
   "outputs": [
    {
     "name": "stdout",
     "output_type": "stream",
     "text": [
      "[1, 3, 6, 10, 15, 21, 28]\n",
      "12\n"
     ]
    }
   ],
   "source": [
    "# 누적합 만들기\n",
    "arr = [1, 2, 3, 4, 5, 6, 7]\n",
    "\n",
    "sum_arr = []\n",
    "total = 0\n",
    "for a in arr:\n",
    "    total += a\n",
    "    sum_arr.append(total)\n",
    "\n",
    "print(sum_arr)\n",
    "\n",
    "# from itertools import accumulate\n",
    "# arr = [1, 2, 3, 4, 5, 6, 7]\n",
    "\n",
    "# sum_arr = list(accumulate(arr))\n",
    "\n",
    "# print(sum_arr)\n",
    "\n",
    "# arr = [1, 2, 3, 4, 5, 6, 7]\n",
    "# N = len(arr)\n",
    "# sum_arr = [0] * N\n",
    "# for i in range(N):\n",
    "#     sum_arr[i] = sum_arr[i - 1] + arr[i]\n",
    "\n",
    "# print(sum_arr)\n",
    "\n",
    "def get_sum(i, j):    \n",
    "    if i:\n",
    "        return sum_arr[j] - sum_arr[i - 1]\n",
    "    else:\n",
    "        return sum_arr[j]\n",
    "\n",
    "print(get_sum(2, 4))"
   ]
  },
  {
   "cell_type": "code",
   "execution_count": 3,
   "metadata": {},
   "outputs": [
    {
     "name": "stdout",
     "output_type": "stream",
     "text": [
      "12\n"
     ]
    }
   ],
   "source": [
    "# 좀 더 쉽게 만들기\n",
    "arr = [1, 2, 3, 4, 5, 6, 7]\n",
    "N = len(arr)\n",
    "sum_arr = [0] * (N + 1)\n",
    "for i in range(1, N + 1):\n",
    "    sum_arr[i] = sum_arr[i - 1] + arr[i - 1]\n",
    "\n",
    "def get_sum(i, j):        \n",
    "    return sum_arr[j] - sum_arr[i - 1]\n",
    "\n",
    "print(get_sum(3, 5))"
   ]
  },
  {
   "cell_type": "code",
   "execution_count": 4,
   "metadata": {},
   "outputs": [
    {
     "name": "stdout",
     "output_type": "stream",
     "text": [
      "12\n",
      "9\n",
      "1\n"
     ]
    }
   ],
   "source": [
    "# 구간 합 구하기 4[백준 11659]\n",
    "N, M = map(int, input().split())\n",
    "arr = [0] + list(map(int, input().split()))\n",
    "\n",
    "sum_arr = []\n",
    "temp = 0\n",
    "for a in arr:    \n",
    "    temp += a\n",
    "    sum_arr.append(temp)\n",
    "    \n",
    "for _ in range(M):\n",
    "    i, j = map(int, input().split())\n",
    "    print(sum_arr[j] - sum_arr[i-1])"
   ]
  },
  {
   "cell_type": "code",
   "execution_count": 7,
   "metadata": {},
   "outputs": [
    {
     "name": "stdout",
     "output_type": "stream",
     "text": [
      "27\n",
      "6\n",
      "64\n"
     ]
    }
   ],
   "source": [
    "# 구간 합 구하기 5[백준 11660]\n",
    "N, M = map(int, input().split())\n",
    "\n",
    "arr = [0]\n",
    "for _ in range(N):\n",
    "    line = [0] + list(map(int, input().split()))\n",
    "    arr.append(line)\n",
    "\n",
    "sum_arr = [[0] * (N+1) for _ in range(N+1)]\n",
    "\n",
    "for i in range(1, N+1):\n",
    "    for j in range(1, N+1):\n",
    "        sum_arr[i][j] = arr[i][j]\n",
    "        sum_arr[i][j] += sum_arr[i][j-1] + sum_arr[i-1][j]\n",
    "        sum_arr[i][j] -= sum_arr[i-1][j-1]\n",
    "\n",
    "for _ in range(M):\n",
    "    i1, j1, i2, j2 = map(int, input().split())\n",
    "    ans = sum_arr[i2][j2]\n",
    "    ans -= sum_arr[i2][j1-1]\n",
    "    ans -= sum_arr[i1-1][j2]\n",
    "    ans += sum_arr[i1-1][j1-1]\n",
    "    print(ans)"
   ]
  },
  {
   "cell_type": "code",
   "execution_count": 8,
   "metadata": {},
   "outputs": [
    {
     "name": "stdout",
     "output_type": "stream",
     "text": [
      "21\n"
     ]
    }
   ],
   "source": [
    "# 수열(정올 2011)[백준 2559]\n",
    "N, K = map(int, input().split())\n",
    "arr = list(map(int, input().split()))\n",
    "\n",
    "sa = []\n",
    "total = 0\n",
    "for a in arr:\n",
    "    total += a\n",
    "    sa.append(total)\n",
    "\n",
    "result = sa[K - 1]\n",
    "for i in range(K, N):\n",
    "    temp = sa[i] - sa[i - K]\n",
    "    result = max(result, temp)\n",
    "print(result)"
   ]
  },
  {
   "cell_type": "code",
   "execution_count": 9,
   "metadata": {},
   "outputs": [
    {
     "name": "stdout",
     "output_type": "stream",
     "text": [
      "21\n"
     ]
    }
   ],
   "source": [
    "# 슬라이딩 윈도우 사용\n",
    "N, K = map(int, input().split())\n",
    "\n",
    "arr = list(map(int, input().split()))\n",
    "result = sum(arr[:K])\n",
    "\n",
    "temp = result\n",
    "for i in range(K, N):\n",
    "    temp += arr[i] - arr[i-K]\n",
    "    result = max(result, temp)\n",
    "\n",
    "print(result)"
   ]
  },
  {
   "cell_type": "code",
   "execution_count": 15,
   "metadata": {},
   "outputs": [
    {
     "name": "stdout",
     "output_type": "stream",
     "text": [
      "1\n"
     ]
    }
   ],
   "source": [
    "# 나누기(정올 2021)[백준 21757]\n",
    "# 다이나믹 프로그래밍은 나중에 나옴. 공부하고 다시 보기\n",
    "N = int(input())\n",
    "arr = list(map(int, input().split()))\n",
    "\n",
    "total = 0\n",
    "sa = []\n",
    "for i in arr:\n",
    "    total += i\n",
    "    sa.append(total)\n",
    "\n",
    "if total % 4 != 0:\n",
    "    print(0)\n",
    "else:\n",
    "    ans = 0\n",
    "    for i in range(N-3):\n",
    "        if sa[i] == total/4:\n",
    "            for j in range(i+1, N-2):\n",
    "                if sa[j] == total /2:\n",
    "                    for k in range(j+1, N-1):\n",
    "                        if sa[k] == total/4 * 3:\n",
    "                            ans += 1\n",
    "    print(ans)"
   ]
  },
  {
   "cell_type": "code",
   "execution_count": 16,
   "metadata": {},
   "outputs": [
    {
     "name": "stdout",
     "output_type": "stream",
     "text": [
      "57\n"
     ]
    }
   ],
   "source": [
    "# 꿀 따기(정올 2021)[백준 21758]\n",
    "N = int(input())\n",
    "honeys = [0] + list(map(int, input().split()))\n",
    "\n",
    "hs = []\n",
    "total = 0\n",
    "for honey in honeys:\n",
    "    total += honey\n",
    "    hs.append(total)\n",
    "\n",
    "def eat(i, j, k):\n",
    "    # 1. i가 꿀\n",
    "    sum_i1 = hs[j-1] - hs[i-1] \n",
    "    sum_i2 = hs[k-1] - hs[i-1] - honeys[j]\n",
    "    rst1 = sum_i1 + sum_i2\n",
    "\n",
    "    # 2. j가 꿀\n",
    "    sum_j1 = hs[j] - hs[i]\n",
    "    sum_j2 = hs[k-1] - hs[j-1] \n",
    "    rst2 = sum_j1 + sum_j2\n",
    "\n",
    "    # 3. k가 꿀\n",
    "    sum_k1 = hs[k] - hs[i] - honeys[j] \n",
    "    sum_k2 = hs[k] - hs[j] \n",
    "    rst3 = sum_k1 + sum_k2\n",
    "\n",
    "    return max(rst1, rst2, rst3)\n",
    "\n",
    "rst = 0\n",
    "for j in range(2, N):\n",
    "    temp = eat(1, j, N)\n",
    "    rst = max(rst, temp)\n",
    "print(rst)"
   ]
  }
 ],
 "metadata": {
  "kernelspec": {
   "display_name": "base",
   "language": "python",
   "name": "python3"
  },
  "language_info": {
   "codemirror_mode": {
    "name": "ipython",
    "version": 3
   },
   "file_extension": ".py",
   "mimetype": "text/x-python",
   "name": "python",
   "nbconvert_exporter": "python",
   "pygments_lexer": "ipython3",
   "version": "3.11.4"
  },
  "orig_nbformat": 4
 },
 "nbformat": 4,
 "nbformat_minor": 2
}
