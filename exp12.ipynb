{
 "cells": [
  {
   "cell_type": "code",
   "execution_count": 1,
   "metadata": {},
   "outputs": [],
   "source": [
    "# 구현"
   ]
  },
  {
   "cell_type": "code",
   "execution_count": 2,
   "metadata": {},
   "outputs": [
    {
     "name": "stdout",
     "output_type": "stream",
     "text": [
      "3\n"
     ]
    }
   ],
   "source": [
    "# 막대기(정올 2019)[백준 17608]\n",
    "N = int(input())\n",
    "arr = [int(input()) for _ in range(N)]\n",
    "\n",
    "cnt = 0\n",
    "max_a = 0\n",
    "\n",
    "for a in reversed(arr):\n",
    "# for a in arr[::-1]:\n",
    "    if max_a < a:\n",
    "        cnt += 1\n",
    "        max_a = a\n",
    "print(cnt)"
   ]
  },
  {
   "cell_type": "code",
   "execution_count": 3,
   "metadata": {},
   "outputs": [
    {
     "name": "stdout",
     "output_type": "stream",
     "text": [
      "-1\n"
     ]
    }
   ],
   "source": [
    "# 박 터뜨리기(정올 2020)[백준 19939]\n",
    "N, K = map(int, input().split())\n",
    "basket = [0] * (K + 1)\n",
    "\n",
    "ball = N\n",
    "for i in range(1, K+1):\n",
    "    basket[i] = i\n",
    "    ball -= i \n",
    "\n",
    "if ball < 0:\n",
    "    print(-1)\n",
    "else:\n",
    "    while 0 < ball:\n",
    "        for i in range(K, 0, -1):\n",
    "            basket[i] += 1\n",
    "            ball -= 1\n",
    "            if ball == 0:\n",
    "                break\n",
    "    print(basket[K] - basket[1])"
   ]
  },
  {
   "cell_type": "code",
   "execution_count": 4,
   "metadata": {},
   "outputs": [
    {
     "name": "stdout",
     "output_type": "stream",
     "text": [
      "-1\n"
     ]
    }
   ],
   "source": [
    "# 수학적으로 해결하기\n",
    "N, K = map(int, input().split())\n",
    "ball = N - (K+1) * K // 2\n",
    "\n",
    "if ball < 0:\n",
    "    print(-1)\n",
    "else:\n",
    "    if ball % K:\n",
    "        print(K)\n",
    "    else:\n",
    "        print(K-1)"
   ]
  },
  {
   "cell_type": "code",
   "execution_count": 5,
   "metadata": {},
   "outputs": [
    {
     "name": "stdout",
     "output_type": "stream",
     "text": [
      "1\n"
     ]
    }
   ],
   "source": [
    "# 지우개(정올 2021)[백준 21756]\n",
    "N = int(input())\n",
    "arr = list(range(1, N+1))\n",
    "\n",
    "while len(arr) != 1:\n",
    "    arr2 = []\n",
    "    for a in arr[1::2]:\n",
    "        arr2.append(a)\n",
    "    arr = arr2\n",
    "\n",
    "print(arr[0])"
   ]
  },
  {
   "cell_type": "code",
   "execution_count": 6,
   "metadata": {},
   "outputs": [
    {
     "name": "stdout",
     "output_type": "stream",
     "text": [
      "4\n"
     ]
    }
   ],
   "source": [
    "# 수학적으로 접근하기\n",
    "N = int(input())\n",
    "\n",
    "ans = 1\n",
    "while ans * 2 <= N:\n",
    "    ans *= 2\n",
    "\n",
    "print(ans)"
   ]
  },
  {
   "cell_type": "code",
   "execution_count": 7,
   "metadata": {},
   "outputs": [
    {
     "name": "stdout",
     "output_type": "stream",
     "text": [
      "18\n"
     ]
    }
   ],
   "source": [
    "# 빵(정올 2022)[백준 25377]\n",
    "N = int(input())\n",
    "\n",
    "MAX = 10000\n",
    "result = MAX\n",
    "for _ in range(N):\n",
    "    arrival_time, open_time = map(int, input().split())\n",
    "    if open_time < arrival_time:\n",
    "        continue\n",
    "\n",
    "    if open_time < result:\n",
    "        result = open_time\n",
    "\n",
    "if result == MAX:\n",
    "    print(-1)\n",
    "else:\n",
    "    print(result)"
   ]
  },
  {
   "cell_type": "code",
   "execution_count": 8,
   "metadata": {},
   "outputs": [
    {
     "name": "stdout",
     "output_type": "stream",
     "text": [
      "1\n"
     ]
    }
   ],
   "source": [
    "# 카드 바꾸기(정올 2022)[백준 25401]\n",
    "N = int(input())\n",
    "\n",
    "arr = [0] + list(map(int, input().split()))\n",
    "\n",
    "def check(s, diff):\n",
    "    cnt = 0\n",
    "    for i in range(1, N + 1):\n",
    "        s += diff\n",
    "        if arr[i] != s:\n",
    "            cnt += 1\n",
    "    return cnt\n",
    "\n",
    "ans = 500\n",
    "for i in range(1, N):\n",
    "    for j in range(i + 1, N + 1):\n",
    "        diff = (arr[j] - arr[i]) / (j - i)\n",
    "\n",
    "        if diff - int(diff) != 0:\n",
    "            continue\n",
    "\n",
    "        ans = min(ans, check(arr[i] - diff * i, diff))\n",
    "print(ans)"
   ]
  },
  {
   "cell_type": "code",
   "execution_count": 9,
   "metadata": {},
   "outputs": [
    {
     "name": "stdout",
     "output_type": "stream",
     "text": [
      "1\n"
     ]
    }
   ],
   "source": [
    "# 크림빵(정올 2023)[백준 28214]\n",
    "def mii():\n",
    "    return map(int, input().split()) \n",
    "\n",
    "N, K, P = mii()\n",
    "arr = tuple(mii())\n",
    "\n",
    "start = 0\n",
    "end = K\n",
    "ans = 0\n",
    "for _ in range(N):\n",
    "    cnt = K - sum(arr[start:end])\n",
    "    if cnt < P:\n",
    "        ans += 1\n",
    "    start = end\n",
    "    end += K\n",
    "\n",
    "print(ans)"
   ]
  }
 ],
 "metadata": {
  "kernelspec": {
   "display_name": "base",
   "language": "python",
   "name": "python3"
  },
  "language_info": {
   "codemirror_mode": {
    "name": "ipython",
    "version": 3
   },
   "file_extension": ".py",
   "mimetype": "text/x-python",
   "name": "python",
   "nbconvert_exporter": "python",
   "pygments_lexer": "ipython3",
   "version": "3.11.4"
  },
  "orig_nbformat": 4
 },
 "nbformat": 4,
 "nbformat_minor": 2
}
