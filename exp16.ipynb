{
 "cells": [
  {
   "cell_type": "code",
   "execution_count": 1,
   "metadata": {},
   "outputs": [],
   "source": [
    "# 슬라이딩 윈도우"
   ]
  },
  {
   "cell_type": "code",
   "execution_count": 2,
   "metadata": {},
   "outputs": [
    {
     "name": "stdout",
     "output_type": "stream",
     "text": [
      "7\n",
      "1\n"
     ]
    }
   ],
   "source": [
    "# 블로그[백준 21921]\n",
    "N, X = map(int, input().split())\n",
    "arr = list(map(int, input().split()))\n",
    "\n",
    "sw = sum(arr[:X])\n",
    "max_sum = sw\n",
    "max_cnt = 1\n",
    "\n",
    "for i in range(X, N):\n",
    "    sw -= arr[i - X]\n",
    "    sw += arr[i]\n",
    "    if sw == max_sum:\n",
    "        max_cnt += 1\n",
    "    elif max_sum < sw:\n",
    "        max_sum = sw\n",
    "        max_cnt = 1\n",
    "\n",
    "if max_sum == 0:\n",
    "    print(\"SAD\")\n",
    "else:\n",
    "    print(max_sum)\n",
    "    print(max_cnt)"
   ]
  },
  {
   "cell_type": "code",
   "execution_count": 3,
   "metadata": {},
   "outputs": [
    {
     "name": "stdout",
     "output_type": "stream",
     "text": [
      "0\n"
     ]
    }
   ],
   "source": [
    "# DNA 비밀번호[백준 12891]\n",
    "S, P = map(int, input().split())\n",
    "dna = input()\n",
    "max_dna = list(map(int, input().split()))\n",
    "\n",
    "chk_dna = ('A', 'C', 'G', 'T')\n",
    "cnt_dna = [0] * 4\n",
    "\n",
    "def add_dna(d):\n",
    "    for i in range(4):\n",
    "        if d == chk_dna[i]:\n",
    "            cnt_dna[i] += 1\n",
    "\n",
    "def del_dna(d):\n",
    "    for i in range(4):\n",
    "        if d == chk_dna[i]:\n",
    "            cnt_dna[i] -= 1\n",
    "\n",
    "def check_dna():\n",
    "    for i in range(4):\n",
    "        if cnt_dna[i] < max_dna[i]:\n",
    "            return False\n",
    "    return True \n",
    "\n",
    "for d in dna[:P]:\n",
    "    add_dna(d)\n",
    "\n",
    "cnt = 1 if check_dna() else 0\n",
    "\n",
    "for i in range(P, S):\n",
    "    add_dna(dna[i])\n",
    "    del_dna(dna[i - P])\n",
    "\n",
    "    if check_dna():\n",
    "        cnt += 1\n",
    "\n",
    "print(cnt)"
   ]
  },
  {
   "cell_type": "code",
   "execution_count": 17,
   "metadata": {},
   "outputs": [
    {
     "name": "stdout",
     "output_type": "stream",
     "text": [
      "5\n"
     ]
    }
   ],
   "source": [
    "# 회전초밥(정올 2012)[백준 15961]\n",
    "N, d, k, c = map(int, input().split())\n",
    "arr = []\n",
    "for _ in range(N):\n",
    "    arr.append(int(input()))\n",
    "\n",
    "check = [0] * (d+1)\n",
    "check[c] = 1\n",
    "eat_sushi = 1\n",
    "\n",
    "for i in range(k):\n",
    "    sushi = arr[i % N]\n",
    "\n",
    "    if not check[sushi]:\n",
    "        eat_sushi += 1\n",
    "\n",
    "    check[sushi] += 1\n",
    "\n",
    "max_sushi = eat_sushi\n",
    "\n",
    "for i in range(1, N ):\n",
    "    start = arr[i - 1 % N]\n",
    "    end = arr[(i + k - 1) % N]\n",
    "\n",
    "    check[start] -= 1\n",
    "    if not check[start]:\n",
    "        eat_sushi -= 1\n",
    "\n",
    "    if not check[end]:\n",
    "        eat_sushi += 1\n",
    "\n",
    "    check[end] += 1\n",
    "    max_sushi = max(max_sushi, eat_sushi)\n",
    "\n",
    "print(max_sushi)"
   ]
  }
 ],
 "metadata": {
  "kernelspec": {
   "display_name": "base",
   "language": "python",
   "name": "python3"
  },
  "language_info": {
   "codemirror_mode": {
    "name": "ipython",
    "version": 3
   },
   "file_extension": ".py",
   "mimetype": "text/x-python",
   "name": "python",
   "nbconvert_exporter": "python",
   "pygments_lexer": "ipython3",
   "version": "3.11.4"
  },
  "orig_nbformat": 4
 },
 "nbformat": 4,
 "nbformat_minor": 2
}
