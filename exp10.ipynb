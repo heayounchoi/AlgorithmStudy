{
 "cells": [
  {
   "cell_type": "code",
   "execution_count": 1,
   "metadata": {},
   "outputs": [],
   "source": [
    "# 브루트 포스\n",
    "# 모든 경우를 다 따지며 해를 찾는 방식"
   ]
  },
  {
   "cell_type": "code",
   "execution_count": 2,
   "metadata": {},
   "outputs": [
    {
     "name": "stdout",
     "output_type": "stream",
     "text": [
      "[('A', 'B'), ('A', 'C'), ('B', 'C')]\n"
     ]
    }
   ],
   "source": [
    "# 조합(Combination)\n",
    "# 반복문으로 구하기\n",
    "arr = ['A', 'B', 'C']\n",
    "N = len(arr)\n",
    "\n",
    "my_comb = []\n",
    "for i in range(N - 1):\n",
    "    for j in range(i + 1, N):\n",
    "        my_comb.append((arr[i], arr[j]))\n",
    "\n",
    "print(my_comb)"
   ]
  },
  {
   "cell_type": "code",
   "execution_count": 3,
   "metadata": {},
   "outputs": [
    {
     "name": "stdout",
     "output_type": "stream",
     "text": [
      "[('A', 'B'), ('A', 'C'), ('B', 'C')]\n"
     ]
    }
   ],
   "source": [
    "# 조합 내장 함수\n",
    "from itertools import combinations\n",
    "\n",
    "arr = ['A', 'B', 'C']\n",
    "print(list(combinations(arr, 2)))"
   ]
  },
  {
   "cell_type": "code",
   "execution_count": 4,
   "metadata": {},
   "outputs": [
    {
     "name": "stdout",
     "output_type": "stream",
     "text": [
      "[('A', 'B'), ('A', 'C'), ('B', 'A'), ('B', 'C'), ('C', 'A'), ('C', 'B')]\n"
     ]
    }
   ],
   "source": [
    "# 순열(Permutation)\n",
    "arr = ['A', 'B', 'C']\n",
    "N = len(arr)\n",
    "\n",
    "my_permu = []\n",
    "for i in range(N):\n",
    "    for j in range(N):\n",
    "        if i == j:\n",
    "            continue\n",
    "        my_permu.append((arr[i], arr[j]))\n",
    "\n",
    "print(my_permu) "
   ]
  },
  {
   "cell_type": "code",
   "execution_count": 5,
   "metadata": {},
   "outputs": [
    {
     "name": "stdout",
     "output_type": "stream",
     "text": [
      "[('A', 'B'), ('A', 'C'), ('B', 'A'), ('B', 'C'), ('C', 'A'), ('C', 'B')]\n"
     ]
    }
   ],
   "source": [
    "# 순열 내장함수\n",
    "from itertools import permutations\n",
    "arr = ['A', 'B', 'C']\n",
    "\n",
    "print(list(permutations(arr, 2)))"
   ]
  },
  {
   "cell_type": "code",
   "execution_count": 8,
   "metadata": {},
   "outputs": [
    {
     "name": "stdout",
     "output_type": "stream",
     "text": [
      "1666\n"
     ]
    }
   ],
   "source": [
    "# 영화감독 숌[백준 1436]\n",
    "n = int(input())\n",
    "num = 666\n",
    "ans = num\n",
    "while n - 1:    \n",
    "    num += 1\n",
    "    if '666' in str(num):\n",
    "        ans = num\n",
    "        n -= 1\n",
    "\n",
    "print(num) "
   ]
  },
  {
   "cell_type": "code",
   "execution_count": 9,
   "metadata": {},
   "outputs": [
    {
     "name": "stdout",
     "output_type": "stream",
     "text": [
      "21\n"
     ]
    }
   ],
   "source": [
    "# 블랙잭[백준 2798]\n",
    "# 반복문 사용하기\n",
    "N, M = map(int, input().split())\n",
    "\n",
    "arr = list(map(int, input().split()))\n",
    "\n",
    "my_max = 0\n",
    "for i in range(N - 2):\n",
    "    for j in range(i + 1, N - 1):\n",
    "        for k in range(j + 1, N):\n",
    "            my_sum = arr[i] + arr[j] + arr[k]\n",
    "            if my_max < my_sum <= M:\n",
    "                my_max = my_sum \n",
    "print(my_max)"
   ]
  },
  {
   "cell_type": "code",
   "execution_count": 10,
   "metadata": {},
   "outputs": [
    {
     "name": "stdout",
     "output_type": "stream",
     "text": [
      "21\n"
     ]
    }
   ],
   "source": [
    "# combination 사용하기\n",
    "from itertools import combinations\n",
    "N, M = map(int, input().split())\n",
    "\n",
    "arr = list(map(int, input().split()))\n",
    "\n",
    "my_max = 0\n",
    "for select_card in combinations(arr, 3):\n",
    "    my_sum = sum(select_card)\n",
    "    if my_max < my_sum <= M:\n",
    "        my_max = my_sum\n",
    "\n",
    "print(my_max)  "
   ]
  },
  {
   "cell_type": "code",
   "execution_count": 11,
   "metadata": {},
   "outputs": [
    {
     "name": "stdout",
     "output_type": "stream",
     "text": [
      "18\n"
     ]
    }
   ],
   "source": [
    "# 369(정올 2019)[백준 17614]\n",
    "# 숫자로 계산하기\n",
    "N = int(input())\n",
    "\n",
    "check = '369'\n",
    "rst = 0\n",
    "\n",
    "for i in range(1, N + 1):\n",
    "    num = i\n",
    "    while num:\n",
    "        chk = num % 10\n",
    "        num //= 10\n",
    "\n",
    "        if chk == 3 or chk == 6 or chk == 9:\n",
    "            rst += 1\n",
    "print(rst)"
   ]
  },
  {
   "cell_type": "code",
   "execution_count": 12,
   "metadata": {},
   "outputs": [
    {
     "name": "stdout",
     "output_type": "stream",
     "text": [
      "18\n"
     ]
    }
   ],
   "source": [
    "# 문자로 계산하기\n",
    "N = int(input())\n",
    "\n",
    "check = '369'\n",
    "rst = 0\n",
    "\n",
    "for i in range(1, N+1):\n",
    "    str_num = str(i)\n",
    "    for c in check:\n",
    "        rst += str_num.count(c)\n",
    "\n",
    "print(rst)"
   ]
  },
  {
   "cell_type": "code",
   "execution_count": 13,
   "metadata": {},
   "outputs": [
    {
     "name": "stdout",
     "output_type": "stream",
     "text": [
      "5\n"
     ]
    }
   ],
   "source": [
    "# 대피소(정올 2023)[백준 28215]\n",
    "from itertools import combinations\n",
    "\n",
    "def mii():\n",
    "    return map(int, input().split())\n",
    "\n",
    "N, K = mii()\n",
    "INF = float(\"INF\")\n",
    "x = [0] * N\n",
    "y = [0] * N\n",
    "for i in range(N):\n",
    "    x[i], y[i] = mii()\n",
    "\n",
    "def max_dist(comb):\n",
    "    rst = 0\n",
    "    for i in range(N):\n",
    "        min_dist = INF\n",
    "        for c in comb:\n",
    "            dist = abs(x[i] - x[c]) + abs(y[i] - y[c]) # 맨해튼 거리\n",
    "            min_dist = min(min_dist, dist)\n",
    "        rst = max(rst, min_dist)\n",
    "    return rst\n",
    "\n",
    "ans = INF\n",
    "for comb in combinations(range(N), K):\n",
    "    ans = min(ans, max_dist(comb))\n",
    "\n",
    "print(ans)"
   ]
  },
  {
   "cell_type": "code",
   "execution_count": 14,
   "metadata": {},
   "outputs": [
    {
     "name": "stdout",
     "output_type": "stream",
     "text": [
      "5\n"
     ]
    }
   ],
   "source": [
    "# 회전초밥(정올 2012)[백준 2531]\n",
    "N, d, k, c = map(int, input().split())\n",
    "arr = []\n",
    "for i in range(N):\n",
    "    arr.append(int(input()))\n",
    "\n",
    "max_sushi = 0\n",
    "for i in range(N):\n",
    "    eat_sushi = 1\n",
    "    check = [0] * (d+1)\n",
    "    check[c] = 1\n",
    "    for j in range(i, i+k):\n",
    "        sushi = arr[j % N]\n",
    "\n",
    "        if not check[sushi]:\n",
    "            eat_sushi += 1\n",
    "        check[sushi] += 1\n",
    "    max_sushi = max(max_sushi, eat_sushi)\n",
    "\n",
    "print(max_sushi)"
   ]
  }
 ],
 "metadata": {
  "kernelspec": {
   "display_name": "base",
   "language": "python",
   "name": "python3"
  },
  "language_info": {
   "codemirror_mode": {
    "name": "ipython",
    "version": 3
   },
   "file_extension": ".py",
   "mimetype": "text/x-python",
   "name": "python",
   "nbconvert_exporter": "python",
   "pygments_lexer": "ipython3",
   "version": "3.11.4"
  },
  "orig_nbformat": 4
 },
 "nbformat": 4,
 "nbformat_minor": 2
}
