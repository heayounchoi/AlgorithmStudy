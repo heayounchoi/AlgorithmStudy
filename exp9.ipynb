{
 "cells": [
  {
   "cell_type": "code",
   "execution_count": null,
   "metadata": {},
   "outputs": [],
   "source": [
    "# 기본적인 자료구조"
   ]
  },
  {
   "cell_type": "code",
   "execution_count": null,
   "metadata": {},
   "outputs": [],
   "source": [
    "# 공 바꾸기[백준 10813]\n",
    "N, M = map(int, input().split())\n",
    "\n",
    "arr = list(range(N + 1))\n",
    "\n",
    "for _ in range(M):\n",
    "    i, j = map(int, input().split())\n",
    "    arr[i], arr[j] = arr[j], arr[i]\n",
    "    \n",
    "print(*arr[1:])"
   ]
  },
  {
   "cell_type": "code",
   "execution_count": null,
   "metadata": {},
   "outputs": [],
   "source": [
    "# 스택[백준 10828]\n",
    "import sys\n",
    "# input = sys.stdin.readline # input()보다 단순한 방식으로 직접적으로 데이터를 읽어옴. input()은 입력 받은 후 추가로 작업을 함.\n",
    "\n",
    "N = int(input())\n",
    "\n",
    "stack = []\n",
    "def query():\n",
    "    Q = input().split()\n",
    "    if Q[0] == \"push\":\n",
    "        stack.append(int(Q[1]))\n",
    "    elif Q[0] == \"pop\":\n",
    "        if len(stack):\n",
    "            print(stack.pop())\n",
    "        else:\n",
    "            print(-1)\n",
    "    elif Q[0] == \"size\":\n",
    "        print(len(stack))\n",
    "    elif Q[0] == \"empty\":\n",
    "        if len(stack):\n",
    "            print(0)\n",
    "        else:\n",
    "            print(1)\n",
    "    elif Q[0] == \"top\":\n",
    "        if len(stack):\n",
    "            print(stack[-1])\n",
    "        else:\n",
    "            print(-1)    \n",
    "\n",
    "for _ in range(N):\n",
    "    query()"
   ]
  },
  {
   "cell_type": "code",
   "execution_count": null,
   "metadata": {},
   "outputs": [],
   "source": [
    "# 요세푸스 문제 0[백준 11866]\n",
    "from collections import deque\n",
    "\n",
    "N, K = map(int, input().split())\n",
    "queue = deque(range(1, N + 1)) \n",
    "# 리스트는 스택 구조로 시작 부분에 있는 원소를 제거하거나 추가할 때, 나머지 모든 원소의 위치를 변경해야함.\n",
    "# deque는 양방향 연결 리스트 기반의 구조를 사용하므로 특정 노드의 추가나 제거 시 해당 노드의 참조만 변경하면 되기 때문에 매우 빠름.\n",
    "\n",
    "ans = []\n",
    "while queue:\n",
    "    cnt = 1\n",
    "    while cnt < K:\n",
    "        tmp = queue.popleft()\n",
    "        queue.append(tmp)\n",
    "        cnt += 1\n",
    "    tmp = queue.popleft()\n",
    "    ans.append(tmp)\n",
    "    \n",
    "print(\"<\", end=\"\")\n",
    "print(*ans, sep=\", \", end=\"\")\n",
    "print(\">\")"
   ]
  },
  {
   "cell_type": "code",
   "execution_count": 1,
   "metadata": {},
   "outputs": [
    {
     "name": "stdout",
     "output_type": "stream",
     "text": [
      "0\n",
      "2\n",
      "1\n",
      "3\n",
      "2\n",
      "1\n",
      "0\n",
      "0\n"
     ]
    }
   ],
   "source": [
    "# 최대 힙[백준 11279]\n",
    "import heapq\n",
    "import sys \n",
    "\n",
    "# input = sys.stdin.readline\n",
    "N = int(input())\n",
    "heap = []\n",
    "\n",
    "for _ in range(N):\n",
    "    qst = int(input())\n",
    "\n",
    "    if qst:\n",
    "        heapq.heappush(heap, -qst)\n",
    "    else:\n",
    "        if len(heap):\n",
    "            temp = heapq.heappop(heap)\n",
    "            print(-temp)\n",
    "        else:\n",
    "            print(0)"
   ]
  },
  {
   "cell_type": "code",
   "execution_count": 3,
   "metadata": {},
   "outputs": [
    {
     "name": "stdout",
     "output_type": "stream",
     "text": [
      "7\n"
     ]
    }
   ],
   "source": [
    "# 제로[백준 10773]\n",
    "K = int(input())\n",
    "stack = []\n",
    "\n",
    "for _ in range(K):\n",
    "    ans = int(input())\n",
    "    if ans == 0:\n",
    "        stack.pop()\n",
    "    else:\n",
    "        stack.append(ans)\n",
    "\n",
    "print(sum(stack))"
   ]
  },
  {
   "cell_type": "code",
   "execution_count": 5,
   "metadata": {},
   "outputs": [
    {
     "name": "stdout",
     "output_type": "stream",
     "text": [
      "NO\n",
      "NO\n",
      "YES\n"
     ]
    },
    {
     "ename": "KeyboardInterrupt",
     "evalue": "Interrupted by user",
     "output_type": "error",
     "traceback": [
      "\u001b[0;31m---------------------------------------------------------------------------\u001b[0m",
      "\u001b[0;31mKeyboardInterrupt\u001b[0m                         Traceback (most recent call last)",
      "Cell \u001b[0;32mIn[5], line 5\u001b[0m\n\u001b[1;32m      2\u001b[0m T \u001b[39m=\u001b[39m \u001b[39mint\u001b[39m(\u001b[39minput\u001b[39m())\n\u001b[1;32m      4\u001b[0m \u001b[39mfor\u001b[39;00m _ \u001b[39min\u001b[39;00m \u001b[39mrange\u001b[39m(T):\n\u001b[0;32m----> 5\u001b[0m     ps \u001b[39m=\u001b[39m \u001b[39minput\u001b[39m()\n\u001b[1;32m      6\u001b[0m     stack \u001b[39m=\u001b[39m []\n\u001b[1;32m      7\u001b[0m     check \u001b[39m=\u001b[39m \u001b[39mFalse\u001b[39;00m\n",
      "File \u001b[0;32m~/anaconda3/lib/python3.11/site-packages/ipykernel/kernelbase.py:1202\u001b[0m, in \u001b[0;36mKernel.raw_input\u001b[0;34m(self, prompt)\u001b[0m\n\u001b[1;32m   1200\u001b[0m     msg \u001b[39m=\u001b[39m \u001b[39m\"\u001b[39m\u001b[39mraw_input was called, but this frontend does not support input requests.\u001b[39m\u001b[39m\"\u001b[39m\n\u001b[1;32m   1201\u001b[0m     \u001b[39mraise\u001b[39;00m StdinNotImplementedError(msg)\n\u001b[0;32m-> 1202\u001b[0m \u001b[39mreturn\u001b[39;00m \u001b[39mself\u001b[39m\u001b[39m.\u001b[39m_input_request(\n\u001b[1;32m   1203\u001b[0m     \u001b[39mstr\u001b[39m(prompt),\n\u001b[1;32m   1204\u001b[0m     \u001b[39mself\u001b[39m\u001b[39m.\u001b[39m_parent_ident[\u001b[39m\"\u001b[39m\u001b[39mshell\u001b[39m\u001b[39m\"\u001b[39m],\n\u001b[1;32m   1205\u001b[0m     \u001b[39mself\u001b[39m\u001b[39m.\u001b[39mget_parent(\u001b[39m\"\u001b[39m\u001b[39mshell\u001b[39m\u001b[39m\"\u001b[39m),\n\u001b[1;32m   1206\u001b[0m     password\u001b[39m=\u001b[39m\u001b[39mFalse\u001b[39;00m,\n\u001b[1;32m   1207\u001b[0m )\n",
      "File \u001b[0;32m~/anaconda3/lib/python3.11/site-packages/ipykernel/kernelbase.py:1245\u001b[0m, in \u001b[0;36mKernel._input_request\u001b[0;34m(self, prompt, ident, parent, password)\u001b[0m\n\u001b[1;32m   1242\u001b[0m \u001b[39mexcept\u001b[39;00m \u001b[39mKeyboardInterrupt\u001b[39;00m:\n\u001b[1;32m   1243\u001b[0m     \u001b[39m# re-raise KeyboardInterrupt, to truncate traceback\u001b[39;00m\n\u001b[1;32m   1244\u001b[0m     msg \u001b[39m=\u001b[39m \u001b[39m\"\u001b[39m\u001b[39mInterrupted by user\u001b[39m\u001b[39m\"\u001b[39m\n\u001b[0;32m-> 1245\u001b[0m     \u001b[39mraise\u001b[39;00m \u001b[39mKeyboardInterrupt\u001b[39;00m(msg) \u001b[39mfrom\u001b[39;00m \u001b[39mNone\u001b[39;00m\n\u001b[1;32m   1246\u001b[0m \u001b[39mexcept\u001b[39;00m \u001b[39mException\u001b[39;00m:\n\u001b[1;32m   1247\u001b[0m     \u001b[39mself\u001b[39m\u001b[39m.\u001b[39mlog\u001b[39m.\u001b[39mwarning(\u001b[39m\"\u001b[39m\u001b[39mInvalid Message:\u001b[39m\u001b[39m\"\u001b[39m, exc_info\u001b[39m=\u001b[39m\u001b[39mTrue\u001b[39;00m)\n",
      "\u001b[0;31mKeyboardInterrupt\u001b[0m: Interrupted by user"
     ]
    }
   ],
   "source": [
    "# 괄호[백준 9012]\n",
    "T = int(input())\n",
    "\n",
    "for _ in range(T):\n",
    "    ps = input()\n",
    "    stack = []\n",
    "    check = False\n",
    "    for s in ps:\n",
    "        if s == \"(\":\n",
    "            stack.append(s)\n",
    "        else:\n",
    "            if not stack:\n",
    "                check = True\n",
    "                break\n",
    "            stack.pop()\n",
    "\n",
    "    if stack or check:\n",
    "        print(\"NO\")\n",
    "    else:\n",
    "        print(\"YES\")"
   ]
  }
 ],
 "metadata": {
  "kernelspec": {
   "display_name": "Python 3",
   "language": "python",
   "name": "python3"
  },
  "language_info": {
   "codemirror_mode": {
    "name": "ipython",
    "version": 3
   },
   "file_extension": ".py",
   "mimetype": "text/x-python",
   "name": "python",
   "nbconvert_exporter": "python",
   "pygments_lexer": "ipython3",
   "version": "3.11.4"
  },
  "orig_nbformat": 4
 },
 "nbformat": 4,
 "nbformat_minor": 2
}
